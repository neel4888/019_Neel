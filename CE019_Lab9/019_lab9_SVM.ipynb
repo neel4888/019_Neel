{
  "nbformat": 4,
  "nbformat_minor": 2,
  "metadata": {
    "colab": {
      "name": "019_lab9.ipynb",
      "provenance": []
    },
    "kernelspec": {
      "name": "python3",
      "display_name": "Python 3"
    }
  },
  "cells": [
    {
      "cell_type": "code",
      "execution_count": null,
      "source": [
        "import numpy as np\r\n",
        "from mlxtend.plotting import plot_decision_regions\r\n",
        "from sklearn import svm\r\n",
        "from sklearn import metrics\r\n",
        "from sklearn.model_selection import train_test_split\r\n",
        "import matplotlib.pyplot as plt\r\n"
      ],
      "outputs": [],
      "metadata": {
        "id": "tSE4ON_Vd10t"
      }
    },
    {
      "cell_type": "code",
      "execution_count": null,
      "source": [
        "from tensorflow.keras.datasets import mnist\r\n",
        "(X_train, y_train), (X_test, y_test) = mnist.load_data()\r\n",
        "X_train, X_test = np.array(X_train, np.float32), np.array(X_test,np.float32)\r\n",
        "num_features = 784\r\n",
        "X_train, X_test = X_train.reshape([-1, num_features]), X_test.reshape([-1, num_features])\r\n",
        "X_train, X_test = X_train/255, X_test/255 "
      ],
      "outputs": [],
      "metadata": {
        "id": "UfPplhT_e0Oy",
        "outputId": "869b6c83-51f3-4cc9-c303-28780f3f474c",
        "colab": {
          "base_uri": "https://localhost:8080/",
          "height": 50
        }
      }
    },
    {
      "cell_type": "code",
      "execution_count": null,
      "source": [
        "clf = svm.SVC(kernel=\"linear\")\r\n",
        "clf.fit(X_train, y_train)\r\n",
        "y_pred = clf.predict(X_test)\r\n",
        "print(\"Accuracy : \",metrics.accuracy_score(y_test, y_pred))"
      ],
      "outputs": [],
      "metadata": {
        "id": "8Im6T0DugN_y"
      }
    },
    {
      "cell_type": "code",
      "execution_count": null,
      "source": [
        "clf = svm.SVC(kernel=\"poly\")\r\n",
        "clf.fit(X_train, y_train)\r\n",
        "y_pred = clf.predict(X_test)\r\n",
        "print(\"Accuracy : \",metrics.accuracy_score(y_test, y_pred))"
      ],
      "outputs": [
        {
          "output_type": "stream",
          "name": "stdout",
          "text": [
            "Accuracy :  0.9771\n"
          ]
        }
      ],
      "metadata": {
        "id": "rRlxLWsCge03",
        "outputId": "ddbc7613-5ef1-48f6-e7f4-f33aa2c3decf",
        "colab": {
          "base_uri": "https://localhost:8080/",
          "height": 34
        }
      }
    },
    {
      "cell_type": "code",
      "execution_count": null,
      "source": [
        "clf = svm.SVC(kernel=\"rbf\")\r\n",
        "clf.fit(X_train, y_train)\r\n",
        "y_pred = clf.predict(X_test)\r\n",
        "print(\"Accuracy : \",metrics.accuracy_score(y_test, y_pred)) \r\n"
      ],
      "outputs": [
        {
          "output_type": "stream",
          "name": "stdout",
          "text": [
            "Accuracy :  0.9792\n"
          ]
        }
      ],
      "metadata": {
        "id": "Kxxrc3n3gi4r",
        "outputId": "8e37a780-0f10-4d0e-e013-0a33adb454e7",
        "colab": {
          "base_uri": "https://localhost:8080/",
          "height": 34
        }
      }
    }
  ]
}