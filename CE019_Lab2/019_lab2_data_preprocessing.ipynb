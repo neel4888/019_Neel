{
 "cells": [
  {
   "cell_type": "code",
   "execution_count": 11,
   "metadata": {},
   "outputs": [],
   "source": [
    "import numpy as np\n",
    "import pandas as pd\n",
    "from sklearn.preprocessing import MinMaxScaler, StandardScaler\n",
    "from sklearn.preprocessing import LabelEncoder,OneHotEncoder\n",
    "from sklearn.impute import SimpleImputer\n",
    "import seaborn as sns"
   ]
  },
  {
   "cell_type": "code",
   "execution_count": 2,
   "metadata": {},
   "outputs": [
    {
     "data": {
      "text/html": [
       "<div>\n",
       "<style scoped>\n",
       "    .dataframe tbody tr th:only-of-type {\n",
       "        vertical-align: middle;\n",
       "    }\n",
       "\n",
       "    .dataframe tbody tr th {\n",
       "        vertical-align: top;\n",
       "    }\n",
       "\n",
       "    .dataframe thead th {\n",
       "        text-align: right;\n",
       "    }\n",
       "</style>\n",
       "<table border=\"1\" class=\"dataframe\">\n",
       "  <thead>\n",
       "    <tr style=\"text-align: right;\">\n",
       "      <th></th>\n",
       "      <th>Unnamed: 0</th>\n",
       "      <th>Price</th>\n",
       "      <th>Age</th>\n",
       "      <th>KM</th>\n",
       "      <th>HP</th>\n",
       "      <th>MetColor</th>\n",
       "      <th>Automatic</th>\n",
       "      <th>CC</th>\n",
       "      <th>Doors</th>\n",
       "      <th>Weight</th>\n",
       "    </tr>\n",
       "  </thead>\n",
       "  <tbody>\n",
       "    <tr>\n",
       "      <th>count</th>\n",
       "      <td>1436.000000</td>\n",
       "      <td>1436.000000</td>\n",
       "      <td>1336.000000</td>\n",
       "      <td>1421.000000</td>\n",
       "      <td>1430.000000</td>\n",
       "      <td>1286.000000</td>\n",
       "      <td>1436.000000</td>\n",
       "      <td>1436.000000</td>\n",
       "      <td>1433.000000</td>\n",
       "      <td>1436.00000</td>\n",
       "    </tr>\n",
       "    <tr>\n",
       "      <th>mean</th>\n",
       "      <td>717.500000</td>\n",
       "      <td>10730.824513</td>\n",
       "      <td>55.672156</td>\n",
       "      <td>68647.239972</td>\n",
       "      <td>101.478322</td>\n",
       "      <td>0.674961</td>\n",
       "      <td>0.055710</td>\n",
       "      <td>1566.827994</td>\n",
       "      <td>4.033496</td>\n",
       "      <td>1072.45961</td>\n",
       "    </tr>\n",
       "    <tr>\n",
       "      <th>std</th>\n",
       "      <td>414.681806</td>\n",
       "      <td>3626.964585</td>\n",
       "      <td>18.589804</td>\n",
       "      <td>37333.023589</td>\n",
       "      <td>14.768255</td>\n",
       "      <td>0.468572</td>\n",
       "      <td>0.229441</td>\n",
       "      <td>187.182436</td>\n",
       "      <td>0.952940</td>\n",
       "      <td>52.64112</td>\n",
       "    </tr>\n",
       "    <tr>\n",
       "      <th>min</th>\n",
       "      <td>0.000000</td>\n",
       "      <td>4350.000000</td>\n",
       "      <td>1.000000</td>\n",
       "      <td>1.000000</td>\n",
       "      <td>69.000000</td>\n",
       "      <td>0.000000</td>\n",
       "      <td>0.000000</td>\n",
       "      <td>1300.000000</td>\n",
       "      <td>2.000000</td>\n",
       "      <td>1000.00000</td>\n",
       "    </tr>\n",
       "    <tr>\n",
       "      <th>25%</th>\n",
       "      <td>358.750000</td>\n",
       "      <td>8450.000000</td>\n",
       "      <td>43.000000</td>\n",
       "      <td>43210.000000</td>\n",
       "      <td>90.000000</td>\n",
       "      <td>0.000000</td>\n",
       "      <td>0.000000</td>\n",
       "      <td>1400.000000</td>\n",
       "      <td>3.000000</td>\n",
       "      <td>1040.00000</td>\n",
       "    </tr>\n",
       "    <tr>\n",
       "      <th>50%</th>\n",
       "      <td>717.500000</td>\n",
       "      <td>9900.000000</td>\n",
       "      <td>60.000000</td>\n",
       "      <td>63634.000000</td>\n",
       "      <td>110.000000</td>\n",
       "      <td>1.000000</td>\n",
       "      <td>0.000000</td>\n",
       "      <td>1600.000000</td>\n",
       "      <td>4.000000</td>\n",
       "      <td>1070.00000</td>\n",
       "    </tr>\n",
       "    <tr>\n",
       "      <th>75%</th>\n",
       "      <td>1076.250000</td>\n",
       "      <td>11950.000000</td>\n",
       "      <td>70.000000</td>\n",
       "      <td>87000.000000</td>\n",
       "      <td>110.000000</td>\n",
       "      <td>1.000000</td>\n",
       "      <td>0.000000</td>\n",
       "      <td>1600.000000</td>\n",
       "      <td>5.000000</td>\n",
       "      <td>1085.00000</td>\n",
       "    </tr>\n",
       "    <tr>\n",
       "      <th>max</th>\n",
       "      <td>1435.000000</td>\n",
       "      <td>32500.000000</td>\n",
       "      <td>80.000000</td>\n",
       "      <td>243000.000000</td>\n",
       "      <td>192.000000</td>\n",
       "      <td>1.000000</td>\n",
       "      <td>1.000000</td>\n",
       "      <td>2000.000000</td>\n",
       "      <td>5.000000</td>\n",
       "      <td>1615.00000</td>\n",
       "    </tr>\n",
       "  </tbody>\n",
       "</table>\n",
       "</div>"
      ],
      "text/plain": [
       "        Unnamed: 0         Price          Age             KM           HP  \\\n",
       "count  1436.000000   1436.000000  1336.000000    1421.000000  1430.000000   \n",
       "mean    717.500000  10730.824513    55.672156   68647.239972   101.478322   \n",
       "std     414.681806   3626.964585    18.589804   37333.023589    14.768255   \n",
       "min       0.000000   4350.000000     1.000000       1.000000    69.000000   \n",
       "25%     358.750000   8450.000000    43.000000   43210.000000    90.000000   \n",
       "50%     717.500000   9900.000000    60.000000   63634.000000   110.000000   \n",
       "75%    1076.250000  11950.000000    70.000000   87000.000000   110.000000   \n",
       "max    1435.000000  32500.000000    80.000000  243000.000000   192.000000   \n",
       "\n",
       "          MetColor    Automatic           CC        Doors      Weight  \n",
       "count  1286.000000  1436.000000  1436.000000  1433.000000  1436.00000  \n",
       "mean      0.674961     0.055710  1566.827994     4.033496  1072.45961  \n",
       "std       0.468572     0.229441   187.182436     0.952940    52.64112  \n",
       "min       0.000000     0.000000  1300.000000     2.000000  1000.00000  \n",
       "25%       0.000000     0.000000  1400.000000     3.000000  1040.00000  \n",
       "50%       1.000000     0.000000  1600.000000     4.000000  1070.00000  \n",
       "75%       1.000000     0.000000  1600.000000     5.000000  1085.00000  \n",
       "max       1.000000     1.000000  2000.000000     5.000000  1615.00000  "
      ]
     },
     "execution_count": 2,
     "metadata": {},
     "output_type": "execute_result"
    }
   ],
   "source": [
    "# values to change\n",
    "unknown = [\"\",\"??\",\"????\",\"three\",\"four\",\"five\"]\n",
    "# import Dataset\n",
    "datasets = pd.read_csv('CarData.csv',na_values = unknown)\n",
    "# dataset extra details and rows\n",
    "datasets.head()\n",
    "datasets.describe()"
   ]
  },
  {
   "cell_type": "code",
   "execution_count": 3,
   "metadata": {},
   "outputs": [
    {
     "name": "stdout",
     "output_type": "stream",
     "text": [
      "\n",
      "Data :\n",
      "       Unnamed: 0  Price   Age       KM FuelType     HP  MetColor  Automatic  \\\n",
      "0              0  13500  23.0  46986.0   Diesel   90.0       1.0          0   \n",
      "1              1  13750  23.0  72937.0   Diesel   90.0       1.0          0   \n",
      "2              2  13950  24.0  41711.0   Diesel   90.0       NaN          0   \n",
      "3              3  14950  26.0  48000.0   Diesel   90.0       0.0          0   \n",
      "4              4  13750  30.0  38500.0   Diesel   90.0       0.0          0   \n",
      "...          ...    ...   ...      ...      ...    ...       ...        ...   \n",
      "1431        1431   7500   NaN  20544.0   Petrol   86.0       1.0          0   \n",
      "1432        1432  10845  72.0      NaN   Petrol   86.0       0.0          0   \n",
      "1433        1433   8500   NaN  17016.0   Petrol   86.0       0.0          0   \n",
      "1434        1434   7250  70.0      NaN      NaN   86.0       1.0          0   \n",
      "1435        1435   6950  76.0      1.0   Petrol  110.0       0.0          0   \n",
      "\n",
      "        CC  Doors  Weight  \n",
      "0     2000    NaN    1165  \n",
      "1     2000    3.0    1165  \n",
      "2     2000    3.0    1165  \n",
      "3     2000    3.0    1165  \n",
      "4     2000    3.0    1170  \n",
      "...    ...    ...     ...  \n",
      "1431  1300    3.0    1025  \n",
      "1432  1300    3.0    1015  \n",
      "1433  1300    3.0    1015  \n",
      "1434  1300    3.0    1015  \n",
      "1435  1600    5.0    1114  \n",
      "\n",
      "[1436 rows x 11 columns]\n"
     ]
    }
   ],
   "source": [
    "# drop all values which have NaN in whole row\n",
    "datasets.dropna(how='all',inplace=True)\n",
    "print(\"\\nData :\\n\",datasets)"
   ]
  },
  {
   "cell_type": "code",
   "execution_count": 12,
   "metadata": {},
   "outputs": [
    {
     "name": "stdout",
     "output_type": "stream",
     "text": [
      "\n",
      "\n",
      "Mean Value for NaN : \n",
      "\n",
      " [[0.0 13500.0 23.0 ... 2000.0 4.033496161898116 1165.0]\n",
      " [1.0 13750.0 23.0 ... 2000.0 3.0 1165.0]\n",
      " [2.0 13950.0 24.0 ... 2000.0 3.0 1165.0]\n",
      " ...\n",
      " [1433.0 8500.0 55.67215568862275 ... 1300.0 3.0 1015.0]\n",
      " [1434.0 7250.0 70.0 ... 1300.0 3.0 1015.0]\n",
      " [1435.0 6950.0 76.0 ... 1600.0 5.0 1114.0]]\n"
     ]
    }
   ],
   "source": [
    "new_X = datasets.iloc[:, :].values\n",
    "# imputer is a function which help to analyse the dataset value and later transform into mean value and place in NaN values\n",
    "imputer = SimpleImputer(missing_values = np.nan,strategy = \"mean\")\n",
    "# analyse\n",
    "imputer = imputer.fit(new_X[:, 0:4])\n",
    "# transform, implement mean value\n",
    "new_X[:, 0:4] = imputer.transform(new_X[:, 0:4])\n",
    "\n",
    "imputer = imputer.fit(new_X[:, 5:11])\n",
    "new_X[:, 5:11] = imputer.transform(new_X[:, 5:11])\n",
    "\n",
    "print(\"\\n\\nMean Value for NaN : \\n\\n\", new_X)"
   ]
  },
  {
   "cell_type": "code",
   "execution_count": 16,
   "metadata": {},
   "outputs": [
    {
     "name": "stdout",
     "output_type": "stream",
     "text": [
      "\n",
      "\n",
      "Fueltype : \n",
      " [0 1 2 ... 1433 1434 1435]\n"
     ]
    }
   ],
   "source": [
    "# Commit: - Taken as reference code \n",
    "# It convert all the values in numeric form\n",
    "le = LabelEncoder()\n",
    "X = datasets.iloc[:, :].values\n",
    "X[ : ,4] = le.fit_transform(X[ : ,0])\n",
    "print(\"\\n\\nFueltype : \\n\", X[ : , 4])"
   ]
  },
  {
   "cell_type": "code",
   "execution_count": 18,
   "metadata": {},
   "outputs": [
    {
     "name": "stdout",
     "output_type": "stream",
     "text": [
      "\n",
      "\n",
      "Final Data :\n",
      "       CNG  Diesel  Petrol  Unnamed: 0  Price   Age       KM     HP  MetColor  \\\n",
      "0       0       1       0           0  13500  23.0  46986.0   90.0       1.0   \n",
      "1       0       1       0           1  13750  23.0  72937.0   90.0       1.0   \n",
      "2       0       1       0           2  13950  24.0  41711.0   90.0       NaN   \n",
      "3       0       1       0           3  14950  26.0  48000.0   90.0       0.0   \n",
      "4       0       1       0           4  13750  30.0  38500.0   90.0       0.0   \n",
      "...   ...     ...     ...         ...    ...   ...      ...    ...       ...   \n",
      "1431    0       0       1        1431   7500   NaN  20544.0   86.0       1.0   \n",
      "1432    0       0       1        1432  10845  72.0      NaN   86.0       0.0   \n",
      "1433    0       0       1        1433   8500   NaN  17016.0   86.0       0.0   \n",
      "1434    0       0       0        1434   7250  70.0      NaN   86.0       1.0   \n",
      "1435    0       0       1        1435   6950  76.0      1.0  110.0       0.0   \n",
      "\n",
      "      Automatic    CC  Doors  Weight  \n",
      "0             0  2000    NaN    1165  \n",
      "1             0  2000    3.0    1165  \n",
      "2             0  2000    3.0    1165  \n",
      "3             0  2000    3.0    1165  \n",
      "4             0  2000    3.0    1170  \n",
      "...         ...   ...    ...     ...  \n",
      "1431          0  1300    3.0    1025  \n",
      "1432          0  1300    3.0    1015  \n",
      "1433          0  1300    3.0    1015  \n",
      "1434          0  1300    3.0    1015  \n",
      "1435          0  1600    5.0    1114  \n",
      "\n",
      "[1436 rows x 13 columns]\n"
     ]
    }
   ],
   "source": [
    "# dummies will help to create every common rows as a column\n",
    "dummy = pd.get_dummies(datasets['FuelType'])\n",
    "# droping Fueltype column from dataset\n",
    "datasets1 = datasets.drop(['FuelType'],axis=1)\n",
    "# inserting new dummy columns into dataset \n",
    "datasets1 = pd.concat([dummy,datasets1],axis=1)\n",
    "print(\"\\n\\nFinal Data :\\n\",datasets1)"
   ]
  },
  {
   "cell_type": "code",
   "execution_count": 20,
   "metadata": {},
   "outputs": [
    {
     "name": "stdout",
     "output_type": "stream",
     "text": [
      "\n",
      "Scaler1 :\n",
      " [[0.00000000e+00 3.25044405e-01 2.78481013e-01 1.93354705e-01]\n",
      " [6.96864111e-04 3.33925400e-01 2.78481013e-01 3.00149383e-01]\n",
      " [1.39372822e-03 3.41030195e-01 2.91139241e-01 1.71646797e-01]\n",
      " ...\n",
      " [9.98606272e-01 1.47424512e-01 6.92052604e-01 7.00208643e-02]\n",
      " [9.99303136e-01 1.03019538e-01 8.73417722e-01 2.82495977e-01]\n",
      " [1.00000000e+00 9.23623446e-02 9.49367089e-01 0.00000000e+00]]\n",
      "\n",
      "Scaler2 :\n",
      " [[0.17073171 1.         0.         1.         0.67783205 0.26829268]\n",
      " [0.17073171 1.         0.         1.         0.33333333 0.26829268]\n",
      " [0.17073171 0.67496112 0.         1.         0.33333333 0.26829268]\n",
      " ...\n",
      " [0.13821138 0.         0.         0.         0.33333333 0.02439024]\n",
      " [0.13821138 1.         0.         0.         0.33333333 0.02439024]\n",
      " [0.33333333 0.         0.         0.42857143 1.         0.18536585]]\n",
      "\n",
      "Standard1 :\n",
      " [[-1.73084506  0.76376268 -1.82280225 -0.58347627]\n",
      " [-1.72843274  0.83271485 -1.82280225  0.11555078]\n",
      " [-1.72602041  0.88787659 -1.76701156 -0.72556589]\n",
      " ...\n",
      " [ 1.72602041 -0.6152808   0.         -1.39076079]\n",
      " [ 1.72843274 -0.96004167  0.79936038  0.        ]\n",
      " [ 1.73084506 -1.04278428  1.13410455 -1.84908399]]\n",
      "\n",
      "Standard2 :\n",
      " [[0.17073171 1.         0.         1.         0.67783205 0.26829268]\n",
      " [0.17073171 1.         0.         1.         0.33333333 0.26829268]\n",
      " [0.17073171 0.67496112 0.         1.         0.33333333 0.26829268]\n",
      " ...\n",
      " [0.13821138 0.         0.         0.         0.33333333 0.02439024]\n",
      " [0.13821138 1.         0.         0.         0.33333333 0.02439024]\n",
      " [0.33333333 0.         0.         0.42857143 1.         0.18536585]]\n"
     ]
    }
   ],
   "source": [
    "scaler = MinMaxScaler()\n",
    "scaler1 = scaler.fit_transform(new_X[ : , 0 : 4])\n",
    "scaler2 = scaler.fit_transform(new_X[ : , 5 : 11])\n",
    "print(\"\\nScaler1 :\\n\", scaler1)\n",
    "print(\"\\nScaler2 :\\n\", scaler2)\n",
    "std = StandardScaler()\n",
    "std1 = std.fit_transform(new_X[ : , 0: 4])\n",
    "std2 = scaler.fit_transform(new_X[ : , 5 : 11])\n",
    "print(\"\\nStandard1 :\\n\", std1)\n",
    "print(\"\\nStandard2 :\\n\", std2)"
   ]
  },
  {
   "cell_type": "code",
   "execution_count": 21,
   "metadata": {},
   "outputs": [
    {
     "data": {
      "text/plain": [
       "<matplotlib.axes._subplots.AxesSubplot at 0x2af84605088>"
      ]
     },
     "execution_count": 21,
     "metadata": {},
     "output_type": "execute_result"
    },
    {
     "data": {
      "image/png": "[encoded data removed]",
      "text/plain": [
       "<Figure size 432x288 with 2 Axes>"
      ]
     },
     "metadata": {
      "needs_background": "light"
     },
     "output_type": "display_data"
    }
   ],
   "source": [
    "new_dataset = datasets.iloc[:, :]\n",
    "corr = new_dataset.corr()\n",
    "sns.heatmap(corr)"
   ]
  },
  {
   "cell_type": "code",
   "execution_count": 25,
   "metadata": {},
   "outputs": [
    {
     "name": "stdout",
     "output_type": "stream",
     "text": [
      "      Unnamed: 0  Unnamed: 0  Weight  Unnamed: 0  Unnamed: 0  Unnamed: 0  \\\n",
      "0              0           0    1165           0           0           0   \n",
      "1              1           1    1165           1           1           1   \n",
      "2              2           2    1165           2           2           2   \n",
      "3              3           3    1165           3           3           3   \n",
      "4              4           4    1170           4           4           4   \n",
      "...          ...         ...     ...         ...         ...         ...   \n",
      "1431        1431        1431    1025        1431        1431        1431   \n",
      "1432        1432        1432    1015        1432        1432        1432   \n",
      "1433        1433        1433    1015        1433        1433        1433   \n",
      "1434        1434        1434    1015        1434        1434        1434   \n",
      "1435        1435        1435    1114        1435        1435        1435   \n",
      "\n",
      "      Unnamed: 0  Unnamed: 0  Unnamed: 0  Unnamed: 0  \n",
      "0              0           0           0           0  \n",
      "1              1           1           1           1  \n",
      "2              2           2           2           2  \n",
      "3              3           3           3           3  \n",
      "4              4           4           4           4  \n",
      "...          ...         ...         ...         ...  \n",
      "1431        1431        1431        1431        1431  \n",
      "1432        1432        1432        1432        1432  \n",
      "1433        1433        1433        1433        1433  \n",
      "1434        1434        1434        1434        1434  \n",
      "1435        1435        1435        1435        1435  \n",
      "\n",
      "[1436 rows x 10 columns]\n"
     ]
    }
   ],
   "source": [
    "columns = np.full((corr.shape[0],), True, dtype=bool)\n",
    "for i in range(corr.shape[0]):\n",
    "    for j in range(i+1, corr.shape[0]):\n",
    "        if corr.iloc[i,j] >= 0.9:\n",
    "            if columns[j]:\n",
    "                columns[j] = False\n",
    "\n",
    "select_col = new_dataset.columns[columns-1]\n",
    "select_col.shape\n",
    "new_dataset = new_dataset[select_col]\n",
    "print(new_dataset)"
   ]
  },
  {
   "cell_type": "code",
   "execution_count": null,
   "metadata": {},
   "outputs": [],
   "source": []
  }
 ],
 "metadata": {
  "kernelspec": {
   "display_name": "Python 3",
   "language": "python",
   "name": "python3"
  },
  "language_info": {
   "codemirror_mode": {
    "name": "ipython",
    "version": 3
   },
   "file_extension": ".py",
   "mimetype": "text/x-python",
   "name": "python",
   "nbconvert_exporter": "python",
   "pygments_lexer": "ipython3",
   "version": "3.7.6"
  }
 },
 "nbformat": 4,
 "nbformat_minor": 4
}
