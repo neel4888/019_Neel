
{
  "nbformat": 4,
  "nbformat_minor": 2,
  "metadata": {
    "colab": {
      "name": "019_lab11.ipynb",
      "provenance": [],
      "collapsed_sections": []
    },
    "kernelspec": {
      "name": "python3",
      "display_name": "Python 3"
    }
  },
  "cells": [
    {
      "cell_type": "code",
      "execution_count": 1,
      "source": [
        "from sklearn.datasets import load_iris\r\n",
        "dataset = load_iris()\r\n",
        "feat,labels = dataset.data, dataset.target\r\n",
        "print(feat.shape,\"\\n\",labels.shape)\r\n"
      ],
      "outputs": [
        {
          "output_type": "stream",
          "name": "stdout",
          "text": [
            "(150, 4) \n",
            " (150,)\n"
          ]
        }
      ],
      "metadata": {
        "id": "8xE80JiwPyfq",
        "outputId": "4aefb6ee-555b-4f0c-bae5-910a9f35c9dc",
        "colab": {
          "base_uri": "https://localhost:8080/",
          "height": 50
        }
      }
    },
    {
      "cell_type": "code",
      "execution_count": 2,
      "source": [
        "from sklearn.model_selection import train_test_split\r\n",
        "from sklearn.preprocessing import StandardScaler\r\n",
        "feat = StandardScaler().fit_transform(feat)\r\n",
        "train_x,test_x,train_y,test_y = train_test_split(feat,labels,test_size=0.2,random_state=53)\r\n",
        "print(f\"train featues shape:{train_x.shape}\\nTrain y shape:{train_y.shape}\")\r\n",
        "print(f'test features shape:{test_x.shape}\\nTest y shape:{test_y.shape}')"
      ],
      "outputs": [
        {
          "output_type": "stream",
          "name": "stdout",
          "text": [
            "train featues shape:(120, 4)\n",
            "Train y shape:(120,)\n",
            "test features shape:(30, 4)\n",
            "Test y shape:(30,)\n"
          ]
        }
      ],
      "metadata": {
        "id": "ed-V88KYRot_",
        "outputId": "3a5488d1-8a65-45a8-ce53-25471ef21300",
        "colab": {
          "base_uri": "https://localhost:8080/",
          "height": 83
        }
      }
    },
    {
      "cell_type": "code",
      "execution_count": 3,
      "source": [
        "from sklearn.decomposition import PCA\r\n",
        "pca = PCA(n_components=3,whiten=True)\r\n",
        "pca.fit(train_x)"
      ],
      "outputs": [
        {
          "output_type": "execute_result",
          "data": {
            "text/plain": [
              "PCA(copy=True, iterated_power='auto', n_components=3, random_state=None,\n",
              "    svd_solver='auto', tol=0.0, whiten=True)"
            ]
          },
          "metadata": {
            "tags": []
          },
          "execution_count": 3
        }
      ],
      "metadata": {
        "id": "PJxBGi-cR2e-",
        "outputId": "6c6b5d73-82a9-4f21-8984-f0bb5a73399d",
        "colab": {
          "base_uri": "https://localhost:8080/",
          "height": 50
        }
      }
    },
    {
      "cell_type": "code",
      "execution_count": 4,
      "source": [
        "train_x_pca = pca.transform(train_x)\r\n",
        "test_x_pca = pca.transform(test_x)\r\n",
        "train_x_pca.shape"
      ],
      "outputs": [
        {
          "output_type": "execute_result",
          "data": {
            "text/plain": [
              "(120, 3)"
            ]
          },
          "metadata": {
            "tags": []
          },
          "execution_count": 4
        }
      ],
      "metadata": {
        "id": "SWVnM0w3R9c5",
        "outputId": "ea53bd95-3628-4772-8c7b-22db6e1669b3",
        "colab": {
          "base_uri": "https://localhost:8080/",
          "height": 33
        }
      }
    },
    {
      "cell_type": "code",
      "execution_count": 5,
      "source": [
        "from sklearn.svm import SVC\r\n",
        "svc = SVC(C=1.0,gamma=0.02)\r\n",
        "svc.fit(train_x_pca,train_y)"
      ],
      "outputs": [
        {
          "output_type": "execute_result",
          "data": {
            "text/plain": [
              "SVC(C=1.0, break_ties=False, cache_size=200, class_weight=None, coef0=0.0,\n",
              "    decision_function_shape='ovr', degree=3, gamma=0.02, kernel='rbf',\n",
              "    max_iter=-1, probability=False, random_state=None, shrinking=True,\n",
              "    tol=0.001, verbose=False)"
            ]
          },
          "metadata": {
            "tags": []
          },
          "execution_count": 5
        }
      ],
      "metadata": {
        "id": "Rkl_CY_GSASi",
        "outputId": "f45fea92-fd3d-45b4-f68c-b24a3c56bd95",
        "colab": {
          "base_uri": "https://localhost:8080/",
          "height": 83
        }
      }
    },
    {
      "cell_type": "code",
      "execution_count": 6,
      "source": [
        "train_x.shape"
      ],
      "outputs": [
        {
          "output_type": "execute_result",
          "data": {
            "text/plain": [
              "(120, 4)"
            ]
          },
          "metadata": {
            "tags": []
          },
          "execution_count": 6
        }
      ],
      "metadata": {
        "id": "bK4eVI2OSFFv",
        "outputId": "27ef1815-cf8e-4146-eb70-264f1991caae",
        "colab": {
          "base_uri": "https://localhost:8080/",
          "height": 33
        }
      }
    },
    {
      "cell_type": "code",
      "execution_count": 7,
      "source": [
        "svc2 = SVC(C=1.0,gamma=0.02)\r\n",
        "svc2.fit(train_x,train_y)"
      ],
      "outputs": [
        {
          "output_type": "execute_result",
          "data": {
            "text/plain": [
              "SVC(C=1.0, break_ties=False, cache_size=200, class_weight=None, coef0=0.0,\n",
              "    decision_function_shape='ovr', degree=3, gamma=0.02, kernel='rbf',\n",
              "    max_iter=-1, probability=False, random_state=None, shrinking=True,\n",
              "    tol=0.001, verbose=False)"
            ]
          },
          "metadata": {
            "tags": []
          },
          "execution_count": 7
        }
      ],
      "metadata": {
        "id": "lQEziiTKSJ6A",
        "outputId": "38c0873c-245b-46dd-d7b1-64754ea00280",
        "colab": {
          "base_uri": "https://localhost:8080/",
          "height": 83
        }
      }
    },
    {
      "cell_type": "code",
      "execution_count": 8,
      "source": [
        "from sklearn import metrics\r\n",
        "y_pred = svc.predict(test_x_pca)\r\n",
        "print(f'With PCA\\nAccuraccy:{metrics.accuracy_score(test_y,y_pred)}')\r\n",
        "print(\"Recall {}\".format(metrics.recall_score(test_y,y_pred, average='weighted')))\r\n",
        "print(\"Precision {}\".format(metrics.precision_score(test_y,y_pred, average='weighted')))"
      ],
      "outputs": [
        {
          "output_type": "stream",
          "name": "stdout",
          "text": [
            "With PCA\n",
            "Accuraccy:0.8666666666666667\n",
            "Recall 0.8666666666666667\n",
            "Precision 0.8666666666666667\n"
          ]
        }
      ],
      "metadata": {
        "id": "gM9Rps7LSLpq",
        "outputId": "ba6f0e09-7c4e-497c-d752-3351516124b1",
        "colab": {
          "base_uri": "https://localhost:8080/",
          "height": 83
        }
      }
    },
    {
      "cell_type": "code",
      "execution_count": 9,
      "source": [
        "y_pred = svc2.predict(test_x)\r\n",
        "print(f'Without PCA\\nAccuraccy:{metrics.accuracy_score(test_y,y_pred)}')\r\n",
        "print(\"Recall {}\".format(metrics.recall_score(test_y,y_pred, average='weighted')))\r\n",
        "print(\"Precision {}\".format(metrics.precision_score(test_y,y_pred, average='weighted')))\r\n"
      ],
      "outputs": [
        {
          "output_type": "stream",
          "name": "stdout",
          "text": [
            "Without PCA\n",
            "Accuraccy:1.0\n",
            "Recall 1.0\n",
            "Precision 1.0\n"
          ]
        }
      ],
      "metadata": {
        "id": "dQniPMykTSeW",
        "outputId": "eddd26d2-054e-4565-d68f-8771c39f193e",
        "colab": {
          "base_uri": "https://localhost:8080/",
          "height": 83
        }
      }
    }
  ]
}