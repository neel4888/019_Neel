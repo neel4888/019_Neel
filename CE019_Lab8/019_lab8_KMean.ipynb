{
  "nbformat": 4,
  "nbformat_minor": 2,
  "metadata": {
    "colab": {
      "name": "019_lab8.ipynb",
      "provenance": []
    },
    "kernelspec": {
      "name": "python3",
      "display_name": "Python 3"
    }
  },
  "cells": [
    {
      "cell_type": "code",
      "execution_count": 10,
      "source": [
        "import numpy as np\r\n",
        "import seaborn as sns\r\n",
        "import matplotlib.pyplot as plt\r\n",
        "from scipy.stats import mode\r\n",
        "from sklearn.cluster import KMeans\r\n",
        "from sklearn.datasets import load_breast_cancer\r\n",
        "from sklearn.metrics import accuracy_score\r\n",
        "from sklearn.metrics import confusion_matrix\r\n",
        " "
      ],
      "outputs": [],
      "metadata": {
        "id": "HFI_vbq_la3r",
        "colab_type": "code",
        "colab": {}
      }
    },
    {
      "cell_type": "code",
      "execution_count": 11,
      "source": [
        "dataset = load_breast_cancer()\r\n",
        "dataset.data.shape "
      ],
      "outputs": [
        {
          "output_type": "execute_result",
          "data": {
            "text/plain": [
              "(569, 30)"
            ]
          },
          "metadata": {
            "tags": []
          },
          "execution_count": 11
        }
      ],
      "metadata": {
        "id": "dVskAZAslfxe",
        "colab_type": "code",
        "colab": {
          "base_uri": "https://localhost:8080/",
          "height": 33
        },
        "outputId": "be05f0f3-0076-467f-8c46-a034565d05a8"
      }
    },
    {
      "cell_type": "code",
      "execution_count": 12,
      "source": [
        "print(\"Name:\",dataset.target_names,\"\\nShape:\",dataset.target_names.shape)\r\n"
      ],
      "outputs": [
        {
          "output_type": "stream",
          "name": "stdout",
          "text": [
            "Name: ['malignant' 'benign'] \n",
            "Shape: (2,)\n"
          ]
        }
      ],
      "metadata": {
        "id": "S2_QTduJlkJB",
        "colab_type": "code",
        "colab": {
          "base_uri": "https://localhost:8080/",
          "height": 50
        },
        "outputId": "3e39c758-3d47-4287-95c4-65525db1b58f"
      }
    },
    {
      "cell_type": "code",
      "execution_count": 13,
      "source": [
        "kmeans = KMeans(n_clusters=dataset.target_names.shape[0],random_state=53)\r\n",
        "preds = kmeans.fit_predict(dataset.data)\r\n"
      ],
      "outputs": [],
      "metadata": {
        "id": "tS3dglu-lmob",
        "colab_type": "code",
        "colab": {}
      }
    },
    {
      "cell_type": "code",
      "execution_count": 14,
      "source": [
        "labels = np.zeros_like(preds)\r\n",
        "for i in range(2):\r\n",
        "  mask = (preds==i)\r\n",
        "  labels[mask] = mode(dataset.target[mask])[0]"
      ],
      "outputs": [],
      "metadata": {
        "id": "BeriK9e2lr0E",
        "colab_type": "code",
        "colab": {}
      }
    },
    {
      "cell_type": "code",
      "execution_count": 15,
      "source": [
        " accuracy_score(dataset.target,labels)"
      ],
      "outputs": [
        {
          "output_type": "execute_result",
          "data": {
            "text/plain": [
              "0.8541300527240774"
            ]
          },
          "metadata": {
            "tags": []
          },
          "execution_count": 15
        }
      ],
      "metadata": {
        "id": "f0RSOvJDl0gr",
        "colab_type": "code",
        "colab": {
          "base_uri": "https://localhost:8080/",
          "height": 33
        },
        "outputId": "a7458635-a9e2-4c3c-ef6b-b081ec7fb3f3"
      }
    },
    {
      "cell_type": "code",
      "execution_count": 17,
      "source": [
        "cmat = confusion_matrix(dataset.target,labels)\r\n",
        "sns.heatmap(cmat,xticklabels=dataset.target_names,yticklabels=dataset.target_names)\r\n",
        "plt.plot()"
      ],
      "outputs": [
        {
          "output_type": "execute_result",
          "data": {
            "text/plain": [
              "[]"
            ]
          },
          "metadata": {
            "tags": []
          },
          "execution_count": 17
        },
        {
          "output_type": "display_data",
          "data": {
            "image/png": "[encoded data removed]",
            "text/plain": [
              "<Figure size 432x288 with 2 Axes>"
            ]
          },
          "metadata": {
            "tags": [],
            "needs_background": "light"
          }
        }
      ],
      "metadata": {
        "id": "EQTlfptql5yz",
        "colab_type": "code",
        "colab": {
          "base_uri": "https://localhost:8080/",
          "height": 282
        },
        "outputId": "739d3c51-14c9-4970-afe4-b462ea4b36ca"
      }
    }
  ]
}